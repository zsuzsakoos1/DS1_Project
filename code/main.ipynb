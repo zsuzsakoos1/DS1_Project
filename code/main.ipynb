{
 "cells": [
  {
   "cell_type": "markdown",
   "id": "d434864f",
   "metadata": {},
   "source": [
    "# Data cleaning and analysis"
   ]
  },
  {
   "cell_type": "code",
   "execution_count": 38,
   "id": "bb3a6ccf",
   "metadata": {},
   "outputs": [],
   "source": [
    "# Importing libraries:\n",
    "import pandas as pd\n",
    "import numpy as np \n",
    "import seaborn as sns\n",
    "import matplotlib.pyplot as plt\n",
    "from pathlib import Path\n",
    "import os\n"
   ]
  },
  {
   "cell_type": "code",
   "execution_count": 27,
   "id": "bc4457e6",
   "metadata": {},
   "outputs": [
    {
     "name": "stdout",
     "output_type": "stream",
     "text": [
      "Working directory set to: /Users/zsuzsikoos/Desktop/DS_Project\n"
     ]
    }
   ],
   "source": [
    "# Setting the notebook directory to the project root: (from delay_prediction)\n",
    "if \"ORIGINAL_WORKDIR\" not in globals():\n",
    "    ORIGINAL_WORKDIR = Path().resolve()  # Save the initial notebook directory\n",
    "\n",
    "# Move up one level from the original location\n",
    "parent_dir = ORIGINAL_WORKDIR.parent\n",
    "\n",
    "# Change to the correct directory\n",
    "os.chdir(parent_dir)\n",
    "\n",
    "print(f\"Working directory set to: {os.getcwd()}\")"
   ]
  },
  {
   "cell_type": "code",
   "execution_count": 28,
   "id": "412d4efd",
   "metadata": {},
   "outputs": [
    {
     "name": "stdout",
     "output_type": "stream",
     "text": [
      "Wrote requirements.txt\n"
     ]
    }
   ],
   "source": [
    "# Save the requirements.txt for reproducibility (from delay_prediction))\n",
    "!pip freeze > requirements.txt\n",
    "print(\"Wrote requirements.txt\")"
   ]
  },
  {
   "cell_type": "code",
   "execution_count": 29,
   "id": "558df209",
   "metadata": {},
   "outputs": [
    {
     "data": {
      "text/html": [
       "<div>\n",
       "<style scoped>\n",
       "    .dataframe tbody tr th:only-of-type {\n",
       "        vertical-align: middle;\n",
       "    }\n",
       "\n",
       "    .dataframe tbody tr th {\n",
       "        vertical-align: top;\n",
       "    }\n",
       "\n",
       "    .dataframe thead th {\n",
       "        text-align: right;\n",
       "    }\n",
       "</style>\n",
       "<table border=\"1\" class=\"dataframe\">\n",
       "  <thead>\n",
       "    <tr style=\"text-align: right;\">\n",
       "      <th></th>\n",
       "      <th>Country Name</th>\n",
       "      <th>Country Code</th>\n",
       "      <th>Series Name</th>\n",
       "      <th>Series Code</th>\n",
       "      <th>2024 [YR2024]</th>\n",
       "    </tr>\n",
       "  </thead>\n",
       "  <tbody>\n",
       "    <tr>\n",
       "      <th>0</th>\n",
       "      <td>Afghanistan</td>\n",
       "      <td>AFG</td>\n",
       "      <td>Urban population growth (annual %)</td>\n",
       "      <td>SP.URB.GROW</td>\n",
       "      <td>4.06172661982306</td>\n",
       "    </tr>\n",
       "    <tr>\n",
       "      <th>1</th>\n",
       "      <td>Afghanistan</td>\n",
       "      <td>AFG</td>\n",
       "      <td>Population, total</td>\n",
       "      <td>SP.POP.TOTL</td>\n",
       "      <td>42647492</td>\n",
       "    </tr>\n",
       "    <tr>\n",
       "      <th>2</th>\n",
       "      <td>Afghanistan</td>\n",
       "      <td>AFG</td>\n",
       "      <td>Fertility rate, total (births per woman)</td>\n",
       "      <td>SP.DYN.TFRT.IN</td>\n",
       "      <td>..</td>\n",
       "    </tr>\n",
       "    <tr>\n",
       "      <th>3</th>\n",
       "      <td>Afghanistan</td>\n",
       "      <td>AFG</td>\n",
       "      <td>GDP per capita (current US$)</td>\n",
       "      <td>NY.GDP.PCAP.CD</td>\n",
       "      <td>..</td>\n",
       "    </tr>\n",
       "    <tr>\n",
       "      <th>4</th>\n",
       "      <td>Albania</td>\n",
       "      <td>ALB</td>\n",
       "      <td>Urban population growth (annual %)</td>\n",
       "      <td>SP.URB.GROW</td>\n",
       "      <td>0.0471709154127424</td>\n",
       "    </tr>\n",
       "  </tbody>\n",
       "</table>\n",
       "</div>"
      ],
      "text/plain": [
       "  Country Name Country Code                               Series Name  \\\n",
       "0  Afghanistan          AFG        Urban population growth (annual %)   \n",
       "1  Afghanistan          AFG                         Population, total   \n",
       "2  Afghanistan          AFG  Fertility rate, total (births per woman)   \n",
       "3  Afghanistan          AFG              GDP per capita (current US$)   \n",
       "4      Albania          ALB        Urban population growth (annual %)   \n",
       "\n",
       "      Series Code       2024 [YR2024]  \n",
       "0     SP.URB.GROW    4.06172661982306  \n",
       "1     SP.POP.TOTL            42647492  \n",
       "2  SP.DYN.TFRT.IN                  ..  \n",
       "3  NY.GDP.PCAP.CD                  ..  \n",
       "4     SP.URB.GROW  0.0471709154127424  "
      ]
     },
     "execution_count": 29,
     "metadata": {},
     "output_type": "execute_result"
    }
   ],
   "source": [
    "# Importing data and reading it into df\n",
    "PROJECT_ROOT = Path.cwd()\n",
    "file_name = 'data.csv' \n",
    "data_path = PROJECT_ROOT / 'data' / 'raw' / file_name\n",
    "df = pd.read_csv(data_path)\n",
    "df.head()"
   ]
  },
  {
   "cell_type": "markdown",
   "id": "71f52f11",
   "metadata": {},
   "source": [
    "## Cleaning:"
   ]
  },
  {
   "cell_type": "markdown",
   "id": "6ee073fe",
   "metadata": {},
   "source": []
  },
  {
   "cell_type": "code",
   "execution_count": 30,
   "id": "a6d4925f",
   "metadata": {},
   "outputs": [],
   "source": [
    "#dropping missing values after identifying them\n",
    "df.replace('..', np.nan, inplace=True)\n",
    "df = df[~df['2024 [YR2024]'].isna()]\n"
   ]
  },
  {
   "cell_type": "code",
   "execution_count": 31,
   "id": "d6456f82",
   "metadata": {},
   "outputs": [
    {
     "data": {
      "text/plain": [
       "Country Name     object\n",
       "Country Code     object\n",
       "Series Name      object\n",
       "Series Code      object\n",
       "2024 [YR2024]    object\n",
       "dtype: object"
      ]
     },
     "execution_count": 31,
     "metadata": {},
     "output_type": "execute_result"
    }
   ],
   "source": [
    "df.dtypes"
   ]
  },
  {
   "cell_type": "code",
   "execution_count": 32,
   "id": "4b236e35",
   "metadata": {},
   "outputs": [
    {
     "data": {
      "text/plain": [
       "Country Name      object\n",
       "Country Code      object\n",
       "Series Name       object\n",
       "Series Code       object\n",
       "2024 [YR2024]    float64\n",
       "dtype: object"
      ]
     },
     "execution_count": 32,
     "metadata": {},
     "output_type": "execute_result"
    }
   ],
   "source": [
    "#transform to numeric\n",
    "df = df.astype({'2024 [YR2024]': 'float'})\n",
    "df.dtypes"
   ]
  },
  {
   "cell_type": "code",
   "execution_count": 33,
   "id": "2e7a5e18",
   "metadata": {},
   "outputs": [
    {
     "data": {
      "text/html": [
       "<div>\n",
       "<style scoped>\n",
       "    .dataframe tbody tr th:only-of-type {\n",
       "        vertical-align: middle;\n",
       "    }\n",
       "\n",
       "    .dataframe tbody tr th {\n",
       "        vertical-align: top;\n",
       "    }\n",
       "\n",
       "    .dataframe thead th {\n",
       "        text-align: right;\n",
       "    }\n",
       "</style>\n",
       "<table border=\"1\" class=\"dataframe\">\n",
       "  <thead>\n",
       "    <tr style=\"text-align: right;\">\n",
       "      <th></th>\n",
       "      <th>Country Name</th>\n",
       "      <th>Country Code</th>\n",
       "      <th>Series Name</th>\n",
       "      <th>Series Code</th>\n",
       "      <th>2024 [YR2024]</th>\n",
       "    </tr>\n",
       "  </thead>\n",
       "  <tbody>\n",
       "    <tr>\n",
       "      <th>0</th>\n",
       "      <td>Afghanistan</td>\n",
       "      <td>AFG</td>\n",
       "      <td>Urban population growth (annual %)</td>\n",
       "      <td>SP.URB.GROW</td>\n",
       "      <td>4.061727e+00</td>\n",
       "    </tr>\n",
       "    <tr>\n",
       "      <th>1</th>\n",
       "      <td>Afghanistan</td>\n",
       "      <td>AFG</td>\n",
       "      <td>Population, total</td>\n",
       "      <td>SP.POP.TOTL</td>\n",
       "      <td>4.264749e+07</td>\n",
       "    </tr>\n",
       "    <tr>\n",
       "      <th>4</th>\n",
       "      <td>Albania</td>\n",
       "      <td>ALB</td>\n",
       "      <td>Urban population growth (annual %)</td>\n",
       "      <td>SP.URB.GROW</td>\n",
       "      <td>4.717092e-02</td>\n",
       "    </tr>\n",
       "    <tr>\n",
       "      <th>5</th>\n",
       "      <td>Albania</td>\n",
       "      <td>ALB</td>\n",
       "      <td>Population, total</td>\n",
       "      <td>SP.POP.TOTL</td>\n",
       "      <td>2.714617e+06</td>\n",
       "    </tr>\n",
       "    <tr>\n",
       "      <th>7</th>\n",
       "      <td>Albania</td>\n",
       "      <td>ALB</td>\n",
       "      <td>GDP per capita (current US$)</td>\n",
       "      <td>NY.GDP.PCAP.CD</td>\n",
       "      <td>1.001163e+04</td>\n",
       "    </tr>\n",
       "    <tr>\n",
       "      <th>...</th>\n",
       "      <td>...</td>\n",
       "      <td>...</td>\n",
       "      <td>...</td>\n",
       "      <td>...</td>\n",
       "      <td>...</td>\n",
       "    </tr>\n",
       "    <tr>\n",
       "      <th>1057</th>\n",
       "      <td>Upper middle income</td>\n",
       "      <td>UMC</td>\n",
       "      <td>Population, total</td>\n",
       "      <td>SP.POP.TOTL</td>\n",
       "      <td>2.818128e+09</td>\n",
       "    </tr>\n",
       "    <tr>\n",
       "      <th>1059</th>\n",
       "      <td>Upper middle income</td>\n",
       "      <td>UMC</td>\n",
       "      <td>GDP per capita (current US$)</td>\n",
       "      <td>NY.GDP.PCAP.CD</td>\n",
       "      <td>1.096182e+04</td>\n",
       "    </tr>\n",
       "    <tr>\n",
       "      <th>1060</th>\n",
       "      <td>World</td>\n",
       "      <td>WLD</td>\n",
       "      <td>Urban population growth (annual %)</td>\n",
       "      <td>SP.URB.GROW</td>\n",
       "      <td>1.719231e+00</td>\n",
       "    </tr>\n",
       "    <tr>\n",
       "      <th>1061</th>\n",
       "      <td>World</td>\n",
       "      <td>WLD</td>\n",
       "      <td>Population, total</td>\n",
       "      <td>SP.POP.TOTL</td>\n",
       "      <td>8.142056e+09</td>\n",
       "    </tr>\n",
       "    <tr>\n",
       "      <th>1063</th>\n",
       "      <td>World</td>\n",
       "      <td>WLD</td>\n",
       "      <td>GDP per capita (current US$)</td>\n",
       "      <td>NY.GDP.PCAP.CD</td>\n",
       "      <td>1.367300e+04</td>\n",
       "    </tr>\n",
       "  </tbody>\n",
       "</table>\n",
       "<p>760 rows × 5 columns</p>\n",
       "</div>"
      ],
      "text/plain": [
       "             Country Name Country Code                         Series Name  \\\n",
       "0             Afghanistan          AFG  Urban population growth (annual %)   \n",
       "1             Afghanistan          AFG                   Population, total   \n",
       "4                 Albania          ALB  Urban population growth (annual %)   \n",
       "5                 Albania          ALB                   Population, total   \n",
       "7                 Albania          ALB        GDP per capita (current US$)   \n",
       "...                   ...          ...                                 ...   \n",
       "1057  Upper middle income          UMC                   Population, total   \n",
       "1059  Upper middle income          UMC        GDP per capita (current US$)   \n",
       "1060                World          WLD  Urban population growth (annual %)   \n",
       "1061                World          WLD                   Population, total   \n",
       "1063                World          WLD        GDP per capita (current US$)   \n",
       "\n",
       "         Series Code  2024 [YR2024]  \n",
       "0        SP.URB.GROW   4.061727e+00  \n",
       "1        SP.POP.TOTL   4.264749e+07  \n",
       "4        SP.URB.GROW   4.717092e-02  \n",
       "5        SP.POP.TOTL   2.714617e+06  \n",
       "7     NY.GDP.PCAP.CD   1.001163e+04  \n",
       "...              ...            ...  \n",
       "1057     SP.POP.TOTL   2.818128e+09  \n",
       "1059  NY.GDP.PCAP.CD   1.096182e+04  \n",
       "1060     SP.URB.GROW   1.719231e+00  \n",
       "1061     SP.POP.TOTL   8.142056e+09  \n",
       "1063  NY.GDP.PCAP.CD   1.367300e+04  \n",
       "\n",
       "[760 rows x 5 columns]"
      ]
     },
     "execution_count": 33,
     "metadata": {},
     "output_type": "execute_result"
    }
   ],
   "source": [
    "df #checking df"
   ]
  },
  {
   "cell_type": "markdown",
   "id": "e33e43ca",
   "metadata": {},
   "source": [
    "## Exploratory data analysis\n",
    "\n",
    "Let's look at the GDP of different regions in the world and visualize them."
   ]
  },
  {
   "cell_type": "code",
   "execution_count": 34,
   "id": "ca2d14a2",
   "metadata": {},
   "outputs": [
    {
     "data": {
      "text/html": [
       "<div>\n",
       "<style scoped>\n",
       "    .dataframe tbody tr th:only-of-type {\n",
       "        vertical-align: middle;\n",
       "    }\n",
       "\n",
       "    .dataframe tbody tr th {\n",
       "        vertical-align: top;\n",
       "    }\n",
       "\n",
       "    .dataframe thead th {\n",
       "        text-align: right;\n",
       "    }\n",
       "</style>\n",
       "<table border=\"1\" class=\"dataframe\">\n",
       "  <thead>\n",
       "    <tr style=\"text-align: right;\">\n",
       "      <th></th>\n",
       "      <th>Country Name</th>\n",
       "      <th>Country Code</th>\n",
       "      <th>Series Name</th>\n",
       "      <th>Series Code</th>\n",
       "      <th>2024 [YR2024]</th>\n",
       "    </tr>\n",
       "  </thead>\n",
       "  <tbody>\n",
       "    <tr>\n",
       "      <th>1047</th>\n",
       "      <td>Sub-Saharan Africa</td>\n",
       "      <td>SSF</td>\n",
       "      <td>GDP per capita (current US$)</td>\n",
       "      <td>NY.GDP.PCAP.CD</td>\n",
       "      <td>1516.35448</td>\n",
       "    </tr>\n",
       "  </tbody>\n",
       "</table>\n",
       "</div>"
      ],
      "text/plain": [
       "            Country Name Country Code                   Series Name  \\\n",
       "1047  Sub-Saharan Africa          SSF  GDP per capita (current US$)   \n",
       "\n",
       "         Series Code  2024 [YR2024]  \n",
       "1047  NY.GDP.PCAP.CD     1516.35448  "
      ]
     },
     "execution_count": 34,
     "metadata": {},
     "output_type": "execute_result"
    }
   ],
   "source": [
    "df.loc[(df['Country Name'] == 'Sub-Saharan Africa') & (df['Series Name'] == 'GDP per capita (current US$)')]"
   ]
  },
  {
   "cell_type": "code",
   "execution_count": 35,
   "id": "33c31045",
   "metadata": {},
   "outputs": [
    {
     "data": {
      "text/html": [
       "<div>\n",
       "<style scoped>\n",
       "    .dataframe tbody tr th:only-of-type {\n",
       "        vertical-align: middle;\n",
       "    }\n",
       "\n",
       "    .dataframe tbody tr th {\n",
       "        vertical-align: top;\n",
       "    }\n",
       "\n",
       "    .dataframe thead th {\n",
       "        text-align: right;\n",
       "    }\n",
       "</style>\n",
       "<table border=\"1\" class=\"dataframe\">\n",
       "  <thead>\n",
       "    <tr style=\"text-align: right;\">\n",
       "      <th></th>\n",
       "      <th>Country Name</th>\n",
       "      <th>Country Code</th>\n",
       "      <th>Series Name</th>\n",
       "      <th>Series Code</th>\n",
       "      <th>2024 [YR2024]</th>\n",
       "    </tr>\n",
       "  </thead>\n",
       "  <tbody>\n",
       "    <tr>\n",
       "      <th>887</th>\n",
       "      <td>Central Europe and the Baltics</td>\n",
       "      <td>CEB</td>\n",
       "      <td>GDP per capita (current US$)</td>\n",
       "      <td>NY.GDP.PCAP.CD</td>\n",
       "      <td>24543.304055</td>\n",
       "    </tr>\n",
       "    <tr>\n",
       "      <th>963</th>\n",
       "      <td>Latin America &amp; Caribbean</td>\n",
       "      <td>LCN</td>\n",
       "      <td>GDP per capita (current US$)</td>\n",
       "      <td>NY.GDP.PCAP.CD</td>\n",
       "      <td>11044.679656</td>\n",
       "    </tr>\n",
       "    <tr>\n",
       "      <th>1007</th>\n",
       "      <td>North America</td>\n",
       "      <td>NAC</td>\n",
       "      <td>GDP per capita (current US$)</td>\n",
       "      <td>NY.GDP.PCAP.CD</td>\n",
       "      <td>82406.478866</td>\n",
       "    </tr>\n",
       "    <tr>\n",
       "      <th>1039</th>\n",
       "      <td>South Asia</td>\n",
       "      <td>SAS</td>\n",
       "      <td>GDP per capita (current US$)</td>\n",
       "      <td>NY.GDP.PCAP.CD</td>\n",
       "      <td>2691.645563</td>\n",
       "    </tr>\n",
       "    <tr>\n",
       "      <th>1047</th>\n",
       "      <td>Sub-Saharan Africa</td>\n",
       "      <td>SSF</td>\n",
       "      <td>GDP per capita (current US$)</td>\n",
       "      <td>NY.GDP.PCAP.CD</td>\n",
       "      <td>1516.354480</td>\n",
       "    </tr>\n",
       "  </tbody>\n",
       "</table>\n",
       "</div>"
      ],
      "text/plain": [
       "                        Country Name Country Code  \\\n",
       "887   Central Europe and the Baltics          CEB   \n",
       "963        Latin America & Caribbean          LCN   \n",
       "1007                   North America          NAC   \n",
       "1039                      South Asia          SAS   \n",
       "1047              Sub-Saharan Africa          SSF   \n",
       "\n",
       "                       Series Name     Series Code  2024 [YR2024]  \n",
       "887   GDP per capita (current US$)  NY.GDP.PCAP.CD   24543.304055  \n",
       "963   GDP per capita (current US$)  NY.GDP.PCAP.CD   11044.679656  \n",
       "1007  GDP per capita (current US$)  NY.GDP.PCAP.CD   82406.478866  \n",
       "1039  GDP per capita (current US$)  NY.GDP.PCAP.CD    2691.645563  \n",
       "1047  GDP per capita (current US$)  NY.GDP.PCAP.CD    1516.354480  "
      ]
     },
     "execution_count": 35,
     "metadata": {},
     "output_type": "execute_result"
    }
   ],
   "source": [
    "regions = [\n",
    "    'Sub-Saharan Africa', \n",
    "    'Latin America & Caribbean', \n",
    "    'Central Europe and the Baltics', \n",
    "    'North America', \n",
    "    'South Asia'\n",
    "]\n",
    "\n",
    "gdp_df= df.loc[(df['Country Name'].isin(regions)) & (df['Series Name'] == 'GDP per capita (current US$)')]\n",
    "gdp_df"
   ]
  },
  {
   "cell_type": "code",
   "execution_count": 48,
   "id": "f93bdf78",
   "metadata": {},
   "outputs": [
    {
     "data": {
      "image/png": "[encoded data removed]",
      "text/plain": [
       "<Figure size 1400x900 with 1 Axes>"
      ]
     },
     "metadata": {},
     "output_type": "display_data"
    }
   ],
   "source": [
    "#plot the data\n",
    "plt.figure(figsize=(14, 9)) \n",
    "\n",
    "bars = plt.bar(\n",
    "    gdp_df['Country Name'], \n",
    "    gdp_df['2024 [YR2024]'],\n",
    "    color='pink' \n",
    ")\n",
    "#fomatting the chart\n",
    "plt.bar_label(bars, fmt='${:,.0f}', padding=3, fontsize=12, color='black')\n",
    "plt.xlabel('Region', fontsize=12)\n",
    "plt.ylabel('GDP per Capita (current US$)', fontsize=12)\n",
    "plt.title('GDP per capita of different regions in 2024', fontsize=16, fontweight='bold')\n",
    "\n",
    "plt.xticks(rotation=45, ha='right', fontsize=12) \n",
    "plt.grid(axis='y', linestyle='--', alpha=0.9)\n",
    "plt.tight_layout()\n",
    "\n",
    "#save output\n",
    "output_path = Path.cwd() / 'output' / 'regional_gdp_comparison.png'\n",
    "plt.savefig(output_path)\n",
    "\n",
    "plt.show()"
   ]
  }
 ],
 "metadata": {
  "kernelspec": {
   "display_name": "ds1_env",
   "language": "python",
   "name": "python3"
  },
  "language_info": {
   "codemirror_mode": {
    "name": "ipython",
    "version": 3
   },
   "file_extension": ".py",
   "mimetype": "text/x-python",
   "name": "python",
   "nbconvert_exporter": "python",
   "pygments_lexer": "ipython3",
   "version": "3.11.13"
  }
 },
 "nbformat": 4,
 "nbformat_minor": 5
}
